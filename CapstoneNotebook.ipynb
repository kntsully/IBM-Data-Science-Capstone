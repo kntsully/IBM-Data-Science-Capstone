{
    "cells": [
        {
            "cell_type": "markdown",
            "metadata": {},
            "source": "# ARLINGTON, VA NEIGHBORHOOD ANALYSIS"
        },
        {
            "cell_type": "markdown",
            "metadata": {},
            "source": "## Introduction"
        },
        {
            "cell_type": "markdown",
            "metadata": {},
            "source": "Several stakeholders are looking to open different resaurants in Arlingtion, VA - using the available location data, we want to recommend to them the best possible neighborhood for each business to be sucessful.  By providing this type of analysis, we could substaintally reduce the risk for each stakeholder in opening a new restaurant, but also improve their return on investment.  Each restaurant should be in an area where it won't be drowned out by its competition and draws in plenty of its own customers.\n\nOverall, the goal of this project is to analyze location data received from the Foursquare API with the k-means clustering algorithm to determine the similarity/differences between neighborhoods."
        },
        {
            "cell_type": "markdown",
            "metadata": {},
            "source": "## Data"
        },
        {
            "cell_type": "markdown",
            "metadata": {
                "collapsed": true
            },
            "source": "To solve this problem, we will first need to know what neighborhoods are in Arlington, VA and where they are located (names, latitude, and longitude).  A list of neighborhoods can be found at 'https://en.wikipedia.org/wiki/List_of_neighborhoods_in_Arlington_County,_Virginia', but the location data will have to be determined with Nominatim from the geopy library.  From here, we will need information on the different types of venues located in and around each neighborhood.  This data can be called from the Foursquare API service, and will be used to cluster the neighborhoods togehter and determine their similarities/differences."
        },
        {
            "cell_type": "markdown",
            "metadata": {},
            "source": "## Methodology"
        },
        {
            "cell_type": "markdown",
            "metadata": {},
            "source": "### 1.)  Import Packages"
        },
        {
            "cell_type": "code",
            "execution_count": 1,
            "metadata": {},
            "outputs": [
                {
                    "name": "stdout",
                    "output_type": "stream",
                    "text": "Requirement already satisfied: folium==0.5.0 in /opt/conda/envs/Python-3.7-main/lib/python3.7/site-packages (0.5.0)\nRequirement already satisfied: requests in /opt/conda/envs/Python-3.7-main/lib/python3.7/site-packages (from folium==0.5.0) (2.24.0)\nRequirement already satisfied: branca in /opt/conda/envs/Python-3.7-main/lib/python3.7/site-packages (from folium==0.5.0) (0.4.1)\nRequirement already satisfied: six in /opt/conda/envs/Python-3.7-main/lib/python3.7/site-packages (from folium==0.5.0) (1.15.0)\nRequirement already satisfied: jinja2 in /opt/conda/envs/Python-3.7-main/lib/python3.7/site-packages (from folium==0.5.0) (2.11.2)\nRequirement already satisfied: certifi>=2017.4.17 in /opt/conda/envs/Python-3.7-main/lib/python3.7/site-packages (from requests->folium==0.5.0) (2020.11.8)\nRequirement already satisfied: chardet<4,>=3.0.2 in /opt/conda/envs/Python-3.7-main/lib/python3.7/site-packages (from requests->folium==0.5.0) (3.0.4)\nRequirement already satisfied: urllib3!=1.25.0,!=1.25.1,<1.26,>=1.21.1 in /opt/conda/envs/Python-3.7-main/lib/python3.7/site-packages (from requests->folium==0.5.0) (1.25.9)\nRequirement already satisfied: idna<3,>=2.5 in /opt/conda/envs/Python-3.7-main/lib/python3.7/site-packages (from requests->folium==0.5.0) (2.9)\nRequirement already satisfied: MarkupSafe>=0.23 in /opt/conda/envs/Python-3.7-main/lib/python3.7/site-packages (from jinja2->folium==0.5.0) (1.1.1)\nRequirement already satisfied: geopy in /opt/conda/envs/Python-3.7-main/lib/python3.7/site-packages (2.0.0)\nRequirement already satisfied: geographiclib<2,>=1.49 in /opt/conda/envs/Python-3.7-main/lib/python3.7/site-packages (from geopy) (1.50)\nRequirement already satisfied: beautifulsoup4 in /opt/conda/envs/Python-3.7-main/lib/python3.7/site-packages (4.9.1)\nRequirement already satisfied: soupsieve>1.2 in /opt/conda/envs/Python-3.7-main/lib/python3.7/site-packages (from beautifulsoup4) (2.0.1)\n"
                }
            ],
            "source": "!pip install folium==0.5.0\n!pip install geopy\n!pip install beautifulsoup4"
        },
        {
            "cell_type": "code",
            "execution_count": 2,
            "metadata": {},
            "outputs": [],
            "source": "#General\nimport pandas as pd\nimport numpy as np\nimport requests\n\n# Web Scraping\nimport bs4 as bs\n\n# Geospacial Info - convert address to latitude and longitude\nfrom geopy.geocoders import Nominatim\n\n# Mapping\nimport folium\nimport matplotlib.cm as cm\nimport matplotlib.colors as colors\n\n# Clustering \nfrom sklearn.cluster import KMeans"
        },
        {
            "cell_type": "markdown",
            "metadata": {},
            "source": "### 2.)  Import Data and Build Dataframe(s)"
        },
        {
            "cell_type": "markdown",
            "metadata": {},
            "source": "#### Web Scraping"
        },
        {
            "cell_type": "code",
            "execution_count": 3,
            "metadata": {},
            "outputs": [
                {
                    "name": "stdout",
                    "output_type": "stream",
                    "text": "There are 73 neigbhorhoods in Arlington, VA.\n"
                },
                {
                    "data": {
                        "text/plain": "['Alcova Heights',\n 'Arlington Forest',\n 'Arlington Heights',\n 'Arlington Ridge',\n \"Arlington View / Johnson's Hill\",\n 'Ashton Heights',\n 'Aurora Highlands',\n 'Aurora Hills',\n 'Ballston',\n 'Barcroft',\n 'Bellevue Forest',\n 'Bluemont',\n 'Bon Air',\n 'Boulevard Manor',\n 'Brandon Village']"
                    },
                    "execution_count": 3,
                    "metadata": {},
                    "output_type": "execute_result"
                }
            ],
            "source": "# Scrape neighborhood names from internet\n\nsauce = requests.get('https://en.wikipedia.org/wiki/List_of_neighborhoods_in_Arlington_County,_Virginia').text\nsoup = bs.BeautifulSoup(sauce, 'lxml')\n\nneighborhood_names = [neighborhood.text for neighborhood in soup.find('tbody').find_all('li')]\n\nprint('There are {} neigbhorhoods in Arlington, VA.'.format(len(neighborhood_names)))\n\nneighborhood_names[0:15]"
        },
        {
            "cell_type": "code",
            "execution_count": 4,
            "metadata": {},
            "outputs": [
                {
                    "name": "stdout",
                    "output_type": "stream",
                    "text": "Arlington View\nHigh View Park\nNauck\nWaycroft-Woodlawn\n"
                }
            ],
            "source": "#Format neighborhood names as neeeded and determine latitude/longitude\nlatitude = []\nlongitude = []\n\nfor i, neighborhood in enumerate(neighborhood_names):\n    if ' /' in neighborhood:\n        neighborhood_names[i] = neighborhood.split(' /')[0]\n    elif ' (' in neighborhood:\n        neighborhood_names[i] = neighborhood.split(' (')[0]\n    \n    try:\n        geolocator = Nominatim(user_agent='arlington_explorer')\n        location = geolocator.geocode('{}, Arlington, VA'.format(neighborhood))\n        latitude.append(location.latitude)\n        longitude.append(location.longitude)\n    except:\n        latitude.append('N/A')\n        longitude.append('N/A')\n        \n# Neighborhoods with additional names or info (post formatting)\nfor i in [4, 40, 49, 64]:\n    print(neighborhood_names[i])"
        },
        {
            "cell_type": "code",
            "execution_count": 5,
            "metadata": {},
            "outputs": [
                {
                    "data": {
                        "text/html": "<div>\n<style scoped>\n    .dataframe tbody tr th:only-of-type {\n        vertical-align: middle;\n    }\n\n    .dataframe tbody tr th {\n        vertical-align: top;\n    }\n\n    .dataframe thead th {\n        text-align: right;\n    }\n</style>\n<table border=\"1\" class=\"dataframe\">\n  <thead>\n    <tr style=\"text-align: right;\">\n      <th></th>\n      <th>Neighborhood</th>\n      <th>Latitude</th>\n      <th>Longitude</th>\n    </tr>\n  </thead>\n  <tbody>\n    <tr>\n      <th>0</th>\n      <td>Alcova Heights</td>\n      <td>38.8646</td>\n      <td>-77.0972</td>\n    </tr>\n    <tr>\n      <th>1</th>\n      <td>Arlington Forest</td>\n      <td>38.8689</td>\n      <td>-77.1131</td>\n    </tr>\n    <tr>\n      <th>2</th>\n      <td>Arlington Heights</td>\n      <td>41.0062</td>\n      <td>-75.2126</td>\n    </tr>\n    <tr>\n      <th>3</th>\n      <td>Arlington Ridge</td>\n      <td>40.9841</td>\n      <td>-81.4939</td>\n    </tr>\n    <tr>\n      <th>4</th>\n      <td>Arlington View</td>\n      <td>N/A</td>\n      <td>N/A</td>\n    </tr>\n    <tr>\n      <th>5</th>\n      <td>Ashton Heights</td>\n      <td>N/A</td>\n      <td>N/A</td>\n    </tr>\n    <tr>\n      <th>6</th>\n      <td>Aurora Highlands</td>\n      <td>38.8528</td>\n      <td>-77.0684</td>\n    </tr>\n    <tr>\n      <th>7</th>\n      <td>Aurora Hills</td>\n      <td>38.8515</td>\n      <td>-77.0641</td>\n    </tr>\n    <tr>\n      <th>8</th>\n      <td>Ballston</td>\n      <td>38.882</td>\n      <td>-77.1115</td>\n    </tr>\n    <tr>\n      <th>9</th>\n      <td>Barcroft</td>\n      <td>38.8559</td>\n      <td>-77.1039</td>\n    </tr>\n    <tr>\n      <th>10</th>\n      <td>Bellevue Forest</td>\n      <td>38.9143</td>\n      <td>-77.1136</td>\n    </tr>\n    <tr>\n      <th>11</th>\n      <td>Bluemont</td>\n      <td>38.8747</td>\n      <td>-77.133</td>\n    </tr>\n    <tr>\n      <th>12</th>\n      <td>Bon Air</td>\n      <td>38.8732</td>\n      <td>-77.1266</td>\n    </tr>\n    <tr>\n      <th>13</th>\n      <td>Boulevard Manor</td>\n      <td>N/A</td>\n      <td>N/A</td>\n    </tr>\n    <tr>\n      <th>14</th>\n      <td>Brandon Village</td>\n      <td>38.8757</td>\n      <td>-77.1158</td>\n    </tr>\n    <tr>\n      <th>15</th>\n      <td>Broyhill Heights</td>\n      <td>N/A</td>\n      <td>N/A</td>\n    </tr>\n    <tr>\n      <th>16</th>\n      <td>Buckingham</td>\n      <td>38.8734</td>\n      <td>-77.1066</td>\n    </tr>\n    <tr>\n      <th>17</th>\n      <td>Carlin Springs</td>\n      <td>38.8772</td>\n      <td>-77.1118</td>\n    </tr>\n    <tr>\n      <th>18</th>\n      <td>Cherrydale</td>\n      <td>38.8971</td>\n      <td>-77.1083</td>\n    </tr>\n    <tr>\n      <th>19</th>\n      <td>Claremont</td>\n      <td>38.8432</td>\n      <td>-77.1047</td>\n    </tr>\n    <tr>\n      <th>20</th>\n      <td>Clarendon</td>\n      <td>38.8871</td>\n      <td>-77.0952</td>\n    </tr>\n    <tr>\n      <th>21</th>\n      <td>Columbia Forest</td>\n      <td>38.854</td>\n      <td>-77.1103</td>\n    </tr>\n    <tr>\n      <th>22</th>\n      <td>Columbia Heights</td>\n      <td>38.8611</td>\n      <td>-77.0846</td>\n    </tr>\n    <tr>\n      <th>23</th>\n      <td>Country Club Hills</td>\n      <td>38.914</td>\n      <td>-77.1308</td>\n    </tr>\n    <tr>\n      <th>24</th>\n      <td>Courthouse</td>\n      <td>38.8951</td>\n      <td>-77.088</td>\n    </tr>\n    <tr>\n      <th>25</th>\n      <td>Crescent Hills</td>\n      <td>38.9048</td>\n      <td>-77.1458</td>\n    </tr>\n    <tr>\n      <th>26</th>\n      <td>Crystal City</td>\n      <td>38.8592</td>\n      <td>-77.0484</td>\n    </tr>\n    <tr>\n      <th>27</th>\n      <td>Crystal Gateway</td>\n      <td>N/A</td>\n      <td>N/A</td>\n    </tr>\n    <tr>\n      <th>28</th>\n      <td>Dominion Hills</td>\n      <td>38.8759</td>\n      <td>-77.1411</td>\n    </tr>\n    <tr>\n      <th>29</th>\n      <td>Donaldson Run</td>\n      <td>38.9149</td>\n      <td>-77.1105</td>\n    </tr>\n    <tr>\n      <th>30</th>\n      <td>Douglas Park</td>\n      <td>38.8531</td>\n      <td>-77.0973</td>\n    </tr>\n    <tr>\n      <th>31</th>\n      <td>East Falls Church</td>\n      <td>38.886</td>\n      <td>-77.1568</td>\n    </tr>\n    <tr>\n      <th>32</th>\n      <td>Fairlington</td>\n      <td>38.833</td>\n      <td>-77.0902</td>\n    </tr>\n    <tr>\n      <th>33</th>\n      <td>Forest Glen</td>\n      <td>N/A</td>\n      <td>N/A</td>\n    </tr>\n    <tr>\n      <th>34</th>\n      <td>Forest Hills</td>\n      <td>37.265</td>\n      <td>-93.2681</td>\n    </tr>\n    <tr>\n      <th>35</th>\n      <td>Fort Myer Heights</td>\n      <td>38.8775</td>\n      <td>-77.0808</td>\n    </tr>\n    <tr>\n      <th>36</th>\n      <td>Glencarlyn</td>\n      <td>38.8618</td>\n      <td>-77.1291</td>\n    </tr>\n    <tr>\n      <th>37</th>\n      <td>Garden City</td>\n      <td>38.9001</td>\n      <td>-77.1353</td>\n    </tr>\n    <tr>\n      <th>38</th>\n      <td>Gates of Ballston</td>\n      <td>N/A</td>\n      <td>N/A</td>\n    </tr>\n    <tr>\n      <th>39</th>\n      <td>Greenbrier</td>\n      <td>38.9011</td>\n      <td>-77.1412</td>\n    </tr>\n    <tr>\n      <th>40</th>\n      <td>High View Park</td>\n      <td>38.8938</td>\n      <td>-77.1267</td>\n    </tr>\n    <tr>\n      <th>41</th>\n      <td>Jackson Court</td>\n      <td>38.9585</td>\n      <td>-94.4701</td>\n    </tr>\n    <tr>\n      <th>42</th>\n      <td>Lacey Forest</td>\n      <td>39.8252</td>\n      <td>-74.1854</td>\n    </tr>\n    <tr>\n      <th>43</th>\n      <td>Lauderdale</td>\n      <td>30.355</td>\n      <td>-81.5679</td>\n    </tr>\n    <tr>\n      <th>44</th>\n      <td>Lee Heights</td>\n      <td>38.9021</td>\n      <td>-77.1172</td>\n    </tr>\n    <tr>\n      <th>45</th>\n      <td>Lyon Park</td>\n      <td>38.8804</td>\n      <td>-77.0899</td>\n    </tr>\n    <tr>\n      <th>46</th>\n      <td>Madison Manor</td>\n      <td>38.8804</td>\n      <td>-77.1472</td>\n    </tr>\n    <tr>\n      <th>47</th>\n      <td>Maywood</td>\n      <td>38.8974</td>\n      <td>-77.1002</td>\n    </tr>\n    <tr>\n      <th>48</th>\n      <td>New Dover</td>\n      <td>N/A</td>\n      <td>N/A</td>\n    </tr>\n    <tr>\n      <th>49</th>\n      <td>Nauck</td>\n      <td>N/A</td>\n      <td>N/A</td>\n    </tr>\n    <tr>\n      <th>50</th>\n      <td>Old Glebe</td>\n      <td>N/A</td>\n      <td>N/A</td>\n    </tr>\n    <tr>\n      <th>51</th>\n      <td>Overlee Knolls</td>\n      <td>38.8896</td>\n      <td>-77.1478</td>\n    </tr>\n    <tr>\n      <th>52</th>\n      <td>Palisades</td>\n      <td>38.9001</td>\n      <td>-77.0813</td>\n    </tr>\n    <tr>\n      <th>53</th>\n      <td>Pentagon City</td>\n      <td>38.863</td>\n      <td>-77.0594</td>\n    </tr>\n    <tr>\n      <th>54</th>\n      <td>Penrose</td>\n      <td>38.8686</td>\n      <td>-77.0831</td>\n    </tr>\n    <tr>\n      <th>55</th>\n      <td>Prospect House</td>\n      <td>N/A</td>\n      <td>N/A</td>\n    </tr>\n    <tr>\n      <th>56</th>\n      <td>Radnor</td>\n      <td>38.889</td>\n      <td>-77.073</td>\n    </tr>\n    <tr>\n      <th>57</th>\n      <td>Randolph Square</td>\n      <td>38.8404</td>\n      <td>-77.0892</td>\n    </tr>\n    <tr>\n      <th>58</th>\n      <td>Rivercrest</td>\n      <td>38.9221</td>\n      <td>-77.1191</td>\n    </tr>\n    <tr>\n      <th>59</th>\n      <td>Rosslyn</td>\n      <td>38.896</td>\n      <td>-77.0709</td>\n    </tr>\n    <tr>\n      <th>60</th>\n      <td>Shirlington</td>\n      <td>38.8418</td>\n      <td>-77.0883</td>\n    </tr>\n    <tr>\n      <th>61</th>\n      <td>Station Square</td>\n      <td>N/A</td>\n      <td>N/A</td>\n    </tr>\n    <tr>\n      <th>62</th>\n      <td>Tara</td>\n      <td>38.8904</td>\n      <td>-77.135</td>\n    </tr>\n    <tr>\n      <th>63</th>\n      <td>Virginia Square</td>\n      <td>38.8829</td>\n      <td>-77.1033</td>\n    </tr>\n    <tr>\n      <th>64</th>\n      <td>Waycroft-Woodlawn</td>\n      <td>N/A</td>\n      <td>N/A</td>\n    </tr>\n    <tr>\n      <th>65</th>\n      <td>Waverly Hills</td>\n      <td>N/A</td>\n      <td>N/A</td>\n    </tr>\n    <tr>\n      <th>66</th>\n      <td>Westmont</td>\n      <td>38.8626</td>\n      <td>-77.0919</td>\n    </tr>\n    <tr>\n      <th>67</th>\n      <td>Westover</td>\n      <td>38.8871</td>\n      <td>-77.1394</td>\n    </tr>\n    <tr>\n      <th>68</th>\n      <td>Willet Heights</td>\n      <td>N/A</td>\n      <td>N/A</td>\n    </tr>\n    <tr>\n      <th>69</th>\n      <td>Williamsburg</td>\n      <td>N/A</td>\n      <td>N/A</td>\n    </tr>\n    <tr>\n      <th>70</th>\n      <td>Williamsburg Circle</td>\n      <td>N/A</td>\n      <td>N/A</td>\n    </tr>\n    <tr>\n      <th>71</th>\n      <td>Williamsburg Village</td>\n      <td>38.9051</td>\n      <td>-77.155</td>\n    </tr>\n    <tr>\n      <th>72</th>\n      <td>Yorktown</td>\n      <td>38.9028</td>\n      <td>-77.1408</td>\n    </tr>\n  </tbody>\n</table>\n</div>",
                        "text/plain": "            Neighborhood Latitude Longitude\n0         Alcova Heights  38.8646  -77.0972\n1       Arlington Forest  38.8689  -77.1131\n2      Arlington Heights  41.0062  -75.2126\n3        Arlington Ridge  40.9841  -81.4939\n4         Arlington View      N/A       N/A\n5         Ashton Heights      N/A       N/A\n6       Aurora Highlands  38.8528  -77.0684\n7           Aurora Hills  38.8515  -77.0641\n8               Ballston   38.882  -77.1115\n9               Barcroft  38.8559  -77.1039\n10       Bellevue Forest  38.9143  -77.1136\n11              Bluemont  38.8747   -77.133\n12               Bon Air  38.8732  -77.1266\n13       Boulevard Manor      N/A       N/A\n14       Brandon Village  38.8757  -77.1158\n15      Broyhill Heights      N/A       N/A\n16            Buckingham  38.8734  -77.1066\n17        Carlin Springs  38.8772  -77.1118\n18            Cherrydale  38.8971  -77.1083\n19             Claremont  38.8432  -77.1047\n20             Clarendon  38.8871  -77.0952\n21       Columbia Forest   38.854  -77.1103\n22      Columbia Heights  38.8611  -77.0846\n23    Country Club Hills   38.914  -77.1308\n24            Courthouse  38.8951   -77.088\n25        Crescent Hills  38.9048  -77.1458\n26          Crystal City  38.8592  -77.0484\n27       Crystal Gateway      N/A       N/A\n28        Dominion Hills  38.8759  -77.1411\n29         Donaldson Run  38.9149  -77.1105\n30          Douglas Park  38.8531  -77.0973\n31     East Falls Church   38.886  -77.1568\n32           Fairlington   38.833  -77.0902\n33           Forest Glen      N/A       N/A\n34          Forest Hills   37.265  -93.2681\n35     Fort Myer Heights  38.8775  -77.0808\n36            Glencarlyn  38.8618  -77.1291\n37           Garden City  38.9001  -77.1353\n38     Gates of Ballston      N/A       N/A\n39            Greenbrier  38.9011  -77.1412\n40        High View Park  38.8938  -77.1267\n41         Jackson Court  38.9585  -94.4701\n42          Lacey Forest  39.8252  -74.1854\n43            Lauderdale   30.355  -81.5679\n44           Lee Heights  38.9021  -77.1172\n45             Lyon Park  38.8804  -77.0899\n46         Madison Manor  38.8804  -77.1472\n47               Maywood  38.8974  -77.1002\n48             New Dover      N/A       N/A\n49                 Nauck      N/A       N/A\n50             Old Glebe      N/A       N/A\n51        Overlee Knolls  38.8896  -77.1478\n52             Palisades  38.9001  -77.0813\n53         Pentagon City   38.863  -77.0594\n54               Penrose  38.8686  -77.0831\n55        Prospect House      N/A       N/A\n56                Radnor   38.889   -77.073\n57       Randolph Square  38.8404  -77.0892\n58            Rivercrest  38.9221  -77.1191\n59               Rosslyn   38.896  -77.0709\n60           Shirlington  38.8418  -77.0883\n61        Station Square      N/A       N/A\n62                  Tara  38.8904   -77.135\n63       Virginia Square  38.8829  -77.1033\n64     Waycroft-Woodlawn      N/A       N/A\n65         Waverly Hills      N/A       N/A\n66              Westmont  38.8626  -77.0919\n67              Westover  38.8871  -77.1394\n68        Willet Heights      N/A       N/A\n69          Williamsburg      N/A       N/A\n70   Williamsburg Circle      N/A       N/A\n71  Williamsburg Village  38.9051   -77.155\n72              Yorktown  38.9028  -77.1408"
                    },
                    "execution_count": 5,
                    "metadata": {},
                    "output_type": "execute_result"
                }
            ],
            "source": "ava_neighborhoods = pd.DataFrame(list(zip(neighborhood_names, latitude, longitude)), columns=['Neighborhood', 'Latitude', 'Longitude'])\npd.set_option('display.max_rows', None)\n\nava_neighborhoods"
        },
        {
            "cell_type": "code",
            "execution_count": 7,
            "metadata": {},
            "outputs": [
                {
                    "data": {
                        "text/html": "<div>\n<style scoped>\n    .dataframe tbody tr th:only-of-type {\n        vertical-align: middle;\n    }\n\n    .dataframe tbody tr th {\n        vertical-align: top;\n    }\n\n    .dataframe thead th {\n        text-align: right;\n    }\n</style>\n<table border=\"1\" class=\"dataframe\">\n  <thead>\n    <tr style=\"text-align: right;\">\n      <th></th>\n      <th>Neighborhood</th>\n      <th>Latitude</th>\n      <th>Longitude</th>\n    </tr>\n  </thead>\n  <tbody>\n    <tr>\n      <th>0</th>\n      <td>Alcova Heights</td>\n      <td>38.8646</td>\n      <td>-77.0972</td>\n    </tr>\n    <tr>\n      <th>1</th>\n      <td>Arlington Forest</td>\n      <td>38.8689</td>\n      <td>-77.1131</td>\n    </tr>\n    <tr>\n      <th>2</th>\n      <td>Aurora Highlands</td>\n      <td>38.8528</td>\n      <td>-77.0684</td>\n    </tr>\n    <tr>\n      <th>3</th>\n      <td>Aurora Hills</td>\n      <td>38.8515</td>\n      <td>-77.0641</td>\n    </tr>\n    <tr>\n      <th>4</th>\n      <td>Ballston</td>\n      <td>38.882</td>\n      <td>-77.1115</td>\n    </tr>\n    <tr>\n      <th>5</th>\n      <td>Barcroft</td>\n      <td>38.8559</td>\n      <td>-77.1039</td>\n    </tr>\n    <tr>\n      <th>6</th>\n      <td>Bellevue Forest</td>\n      <td>38.9143</td>\n      <td>-77.1136</td>\n    </tr>\n    <tr>\n      <th>7</th>\n      <td>Bluemont</td>\n      <td>38.8747</td>\n      <td>-77.133</td>\n    </tr>\n    <tr>\n      <th>8</th>\n      <td>Bon Air</td>\n      <td>38.8732</td>\n      <td>-77.1266</td>\n    </tr>\n    <tr>\n      <th>9</th>\n      <td>Brandon Village</td>\n      <td>38.8757</td>\n      <td>-77.1158</td>\n    </tr>\n    <tr>\n      <th>10</th>\n      <td>Buckingham</td>\n      <td>38.8734</td>\n      <td>-77.1066</td>\n    </tr>\n    <tr>\n      <th>11</th>\n      <td>Carlin Springs</td>\n      <td>38.8772</td>\n      <td>-77.1118</td>\n    </tr>\n    <tr>\n      <th>12</th>\n      <td>Cherrydale</td>\n      <td>38.8971</td>\n      <td>-77.1083</td>\n    </tr>\n    <tr>\n      <th>13</th>\n      <td>Claremont</td>\n      <td>38.8432</td>\n      <td>-77.1047</td>\n    </tr>\n    <tr>\n      <th>14</th>\n      <td>Clarendon</td>\n      <td>38.8871</td>\n      <td>-77.0952</td>\n    </tr>\n    <tr>\n      <th>15</th>\n      <td>Columbia Forest</td>\n      <td>38.854</td>\n      <td>-77.1103</td>\n    </tr>\n    <tr>\n      <th>16</th>\n      <td>Columbia Heights</td>\n      <td>38.8611</td>\n      <td>-77.0846</td>\n    </tr>\n    <tr>\n      <th>17</th>\n      <td>Country Club Hills</td>\n      <td>38.914</td>\n      <td>-77.1308</td>\n    </tr>\n    <tr>\n      <th>18</th>\n      <td>Courthouse</td>\n      <td>38.8951</td>\n      <td>-77.088</td>\n    </tr>\n    <tr>\n      <th>19</th>\n      <td>Crescent Hills</td>\n      <td>38.9048</td>\n      <td>-77.1458</td>\n    </tr>\n    <tr>\n      <th>20</th>\n      <td>Crystal City</td>\n      <td>38.8592</td>\n      <td>-77.0484</td>\n    </tr>\n    <tr>\n      <th>21</th>\n      <td>Dominion Hills</td>\n      <td>38.8759</td>\n      <td>-77.1411</td>\n    </tr>\n    <tr>\n      <th>22</th>\n      <td>Donaldson Run</td>\n      <td>38.9149</td>\n      <td>-77.1105</td>\n    </tr>\n    <tr>\n      <th>23</th>\n      <td>Douglas Park</td>\n      <td>38.8531</td>\n      <td>-77.0973</td>\n    </tr>\n    <tr>\n      <th>24</th>\n      <td>East Falls Church</td>\n      <td>38.886</td>\n      <td>-77.1568</td>\n    </tr>\n    <tr>\n      <th>25</th>\n      <td>Fairlington</td>\n      <td>38.833</td>\n      <td>-77.0902</td>\n    </tr>\n    <tr>\n      <th>26</th>\n      <td>Fort Myer Heights</td>\n      <td>38.8775</td>\n      <td>-77.0808</td>\n    </tr>\n    <tr>\n      <th>27</th>\n      <td>Glencarlyn</td>\n      <td>38.8618</td>\n      <td>-77.1291</td>\n    </tr>\n    <tr>\n      <th>28</th>\n      <td>Garden City</td>\n      <td>38.9001</td>\n      <td>-77.1353</td>\n    </tr>\n    <tr>\n      <th>29</th>\n      <td>Greenbrier</td>\n      <td>38.9011</td>\n      <td>-77.1412</td>\n    </tr>\n    <tr>\n      <th>30</th>\n      <td>High View Park</td>\n      <td>38.8938</td>\n      <td>-77.1267</td>\n    </tr>\n    <tr>\n      <th>31</th>\n      <td>Lee Heights</td>\n      <td>38.9021</td>\n      <td>-77.1172</td>\n    </tr>\n    <tr>\n      <th>32</th>\n      <td>Lyon Park</td>\n      <td>38.8804</td>\n      <td>-77.0899</td>\n    </tr>\n    <tr>\n      <th>33</th>\n      <td>Madison Manor</td>\n      <td>38.8804</td>\n      <td>-77.1472</td>\n    </tr>\n    <tr>\n      <th>34</th>\n      <td>Maywood</td>\n      <td>38.8974</td>\n      <td>-77.1002</td>\n    </tr>\n    <tr>\n      <th>35</th>\n      <td>Overlee Knolls</td>\n      <td>38.8896</td>\n      <td>-77.1478</td>\n    </tr>\n    <tr>\n      <th>36</th>\n      <td>Palisades</td>\n      <td>38.9001</td>\n      <td>-77.0813</td>\n    </tr>\n    <tr>\n      <th>37</th>\n      <td>Pentagon City</td>\n      <td>38.863</td>\n      <td>-77.0594</td>\n    </tr>\n    <tr>\n      <th>38</th>\n      <td>Penrose</td>\n      <td>38.8686</td>\n      <td>-77.0831</td>\n    </tr>\n    <tr>\n      <th>39</th>\n      <td>Radnor</td>\n      <td>38.889</td>\n      <td>-77.073</td>\n    </tr>\n    <tr>\n      <th>40</th>\n      <td>Randolph Square</td>\n      <td>38.8404</td>\n      <td>-77.0892</td>\n    </tr>\n    <tr>\n      <th>41</th>\n      <td>Rivercrest</td>\n      <td>38.9221</td>\n      <td>-77.1191</td>\n    </tr>\n    <tr>\n      <th>42</th>\n      <td>Rosslyn</td>\n      <td>38.896</td>\n      <td>-77.0709</td>\n    </tr>\n    <tr>\n      <th>43</th>\n      <td>Shirlington</td>\n      <td>38.8418</td>\n      <td>-77.0883</td>\n    </tr>\n    <tr>\n      <th>44</th>\n      <td>Tara</td>\n      <td>38.8904</td>\n      <td>-77.135</td>\n    </tr>\n    <tr>\n      <th>45</th>\n      <td>Virginia Square</td>\n      <td>38.8829</td>\n      <td>-77.1033</td>\n    </tr>\n    <tr>\n      <th>46</th>\n      <td>Westmont</td>\n      <td>38.8626</td>\n      <td>-77.0919</td>\n    </tr>\n    <tr>\n      <th>47</th>\n      <td>Westover</td>\n      <td>38.8871</td>\n      <td>-77.1394</td>\n    </tr>\n    <tr>\n      <th>48</th>\n      <td>Williamsburg Village</td>\n      <td>38.9051</td>\n      <td>-77.155</td>\n    </tr>\n    <tr>\n      <th>49</th>\n      <td>Yorktown</td>\n      <td>38.9028</td>\n      <td>-77.1408</td>\n    </tr>\n  </tbody>\n</table>\n</div>",
                        "text/plain": "            Neighborhood Latitude Longitude\n0         Alcova Heights  38.8646  -77.0972\n1       Arlington Forest  38.8689  -77.1131\n2       Aurora Highlands  38.8528  -77.0684\n3           Aurora Hills  38.8515  -77.0641\n4               Ballston   38.882  -77.1115\n5               Barcroft  38.8559  -77.1039\n6        Bellevue Forest  38.9143  -77.1136\n7               Bluemont  38.8747   -77.133\n8                Bon Air  38.8732  -77.1266\n9        Brandon Village  38.8757  -77.1158\n10            Buckingham  38.8734  -77.1066\n11        Carlin Springs  38.8772  -77.1118\n12            Cherrydale  38.8971  -77.1083\n13             Claremont  38.8432  -77.1047\n14             Clarendon  38.8871  -77.0952\n15       Columbia Forest   38.854  -77.1103\n16      Columbia Heights  38.8611  -77.0846\n17    Country Club Hills   38.914  -77.1308\n18            Courthouse  38.8951   -77.088\n19        Crescent Hills  38.9048  -77.1458\n20          Crystal City  38.8592  -77.0484\n21        Dominion Hills  38.8759  -77.1411\n22         Donaldson Run  38.9149  -77.1105\n23          Douglas Park  38.8531  -77.0973\n24     East Falls Church   38.886  -77.1568\n25           Fairlington   38.833  -77.0902\n26     Fort Myer Heights  38.8775  -77.0808\n27            Glencarlyn  38.8618  -77.1291\n28           Garden City  38.9001  -77.1353\n29            Greenbrier  38.9011  -77.1412\n30        High View Park  38.8938  -77.1267\n31           Lee Heights  38.9021  -77.1172\n32             Lyon Park  38.8804  -77.0899\n33         Madison Manor  38.8804  -77.1472\n34               Maywood  38.8974  -77.1002\n35        Overlee Knolls  38.8896  -77.1478\n36             Palisades  38.9001  -77.0813\n37         Pentagon City   38.863  -77.0594\n38               Penrose  38.8686  -77.0831\n39                Radnor   38.889   -77.073\n40       Randolph Square  38.8404  -77.0892\n41            Rivercrest  38.9221  -77.1191\n42               Rosslyn   38.896  -77.0709\n43           Shirlington  38.8418  -77.0883\n44                  Tara  38.8904   -77.135\n45       Virginia Square  38.8829  -77.1033\n46              Westmont  38.8626  -77.0919\n47              Westover  38.8871  -77.1394\n48  Williamsburg Village  38.9051   -77.155\n49              Yorktown  38.9028  -77.1408"
                    },
                    "execution_count": 7,
                    "metadata": {},
                    "output_type": "execute_result"
                }
            ],
            "source": "#For simplity will filter neighborhoods down to those where Nominatim returned good latitudes/longitudes\n\nava_neighborhoods.drop(ava_neighborhoods[ava_neighborhoods['Latitude'] == \"N/A\"].index, inplace = True)\n\nm = (ava_neighborhoods['Latitude'].between(38,39)) & (ava_neighborhoods['Longitude'].between(-78,-77))\n\nava_filtered = ava_neighborhoods[m].reset_index(drop=True)\n\nava_filtered"
        },
        {
            "cell_type": "code",
            "execution_count": 8,
            "metadata": {},
            "outputs": [
                {
                    "name": "stdout",
                    "output_type": "stream",
                    "text": "The dataframe has 50 neighborhoods.\n"
                }
            ],
            "source": "print('The dataframe has {} neighborhoods.'.format(ava_filtered.shape[0]))"
        },
        {
            "cell_type": "markdown",
            "metadata": {},
            "source": "#### Foursquare API"
        },
        {
            "cell_type": "code",
            "execution_count": 13,
            "metadata": {},
            "outputs": [],
            "source": "# The code was removed by Watson Studio for sharing."
        },
        {
            "cell_type": "code",
            "execution_count": 14,
            "metadata": {},
            "outputs": [],
            "source": "VERSION = '20201208'\nLIMIT = 100\nradius = 500 #meters"
        },
        {
            "cell_type": "code",
            "execution_count": 15,
            "metadata": {},
            "outputs": [],
            "source": "def getNearbyVenues(names, latitudes, longitudes):\n    \n    venues_list = []\n    for name, lat, lng in zip(names, latitudes, longitudes):\n        \n        url = 'https://api.foursquare.com/v2/venues/explore?&client_id={}&client_secret={}&v={}&ll={},{}&radius={}&limit={}'.format(\n            CLIENT_ID, \n            CLIENT_SECRET, \n            VERSION, \n            lat, \n            lng, \n            radius, \n            LIMIT)\n        \n        results = requests.get(url).json()['response']['groups'][0]['items']\n        \n        venues_list.append([(\n            name,\n            lat,\n            lng,\n            v['venue']['name'],\n            v['venue']['location']['lat'],\n            v['venue']['location']['lng'],\n            v['venue']['categories'][0]['name']) for v in results])\n        \n    nearby_venues = pd.DataFrame([item for venue_list in venues_list for item in venue_list])\n    nearby_venues.columns = ['Neighborhood', 'Neighborhood Latitude', 'Neighborhood Longitude', 'Venue', 'Venue Latitude', 'Venue Longitude', 'Venue Category']\n        \n    return(nearby_venues)"
        },
        {
            "cell_type": "code",
            "execution_count": 16,
            "metadata": {},
            "outputs": [
                {
                    "ename": "KeyError",
                    "evalue": "'groups'",
                    "output_type": "error",
                    "traceback": [
                        "\u001b[0;31m---------------------------------------------------------------------------\u001b[0m",
                        "\u001b[0;31mKeyError\u001b[0m                                  Traceback (most recent call last)",
                        "\u001b[0;32m<ipython-input-16-be8c9faab26e>\u001b[0m in \u001b[0;36m<module>\u001b[0;34m\u001b[0m\n\u001b[0;32m----> 1\u001b[0;31m \u001b[0mava_venues\u001b[0m \u001b[0;34m=\u001b[0m \u001b[0mgetNearbyVenues\u001b[0m\u001b[0;34m(\u001b[0m\u001b[0mnames\u001b[0m \u001b[0;34m=\u001b[0m \u001b[0mava_filtered\u001b[0m\u001b[0;34m[\u001b[0m\u001b[0;34m'Neighborhood'\u001b[0m\u001b[0;34m]\u001b[0m\u001b[0;34m,\u001b[0m \u001b[0mlatitudes\u001b[0m \u001b[0;34m=\u001b[0m \u001b[0mava_filtered\u001b[0m\u001b[0;34m[\u001b[0m\u001b[0;34m'Latitude'\u001b[0m\u001b[0;34m]\u001b[0m\u001b[0;34m,\u001b[0m \u001b[0mlongitudes\u001b[0m \u001b[0;34m=\u001b[0m \u001b[0mava_filtered\u001b[0m\u001b[0;34m[\u001b[0m\u001b[0;34m'Longitude'\u001b[0m\u001b[0;34m]\u001b[0m\u001b[0;34m)\u001b[0m\u001b[0;34m\u001b[0m\u001b[0;34m\u001b[0m\u001b[0m\n\u001b[0m\u001b[1;32m      2\u001b[0m \u001b[0mprint\u001b[0m\u001b[0;34m(\u001b[0m\u001b[0mava_venues\u001b[0m\u001b[0;34m.\u001b[0m\u001b[0mshape\u001b[0m\u001b[0;34m)\u001b[0m\u001b[0;34m\u001b[0m\u001b[0;34m\u001b[0m\u001b[0m\n\u001b[1;32m      3\u001b[0m \u001b[0mava_venues\u001b[0m\u001b[0;34m.\u001b[0m\u001b[0mhead\u001b[0m\u001b[0;34m(\u001b[0m\u001b[0;34m)\u001b[0m\u001b[0;34m\u001b[0m\u001b[0;34m\u001b[0m\u001b[0m\n",
                        "\u001b[0;32m<ipython-input-15-7c1a51c12b1a>\u001b[0m in \u001b[0;36mgetNearbyVenues\u001b[0;34m(names, latitudes, longitudes)\u001b[0m\n\u001b[1;32m     13\u001b[0m             LIMIT)\n\u001b[1;32m     14\u001b[0m \u001b[0;34m\u001b[0m\u001b[0m\n\u001b[0;32m---> 15\u001b[0;31m         \u001b[0mresults\u001b[0m \u001b[0;34m=\u001b[0m \u001b[0mrequests\u001b[0m\u001b[0;34m.\u001b[0m\u001b[0mget\u001b[0m\u001b[0;34m(\u001b[0m\u001b[0murl\u001b[0m\u001b[0;34m)\u001b[0m\u001b[0;34m.\u001b[0m\u001b[0mjson\u001b[0m\u001b[0;34m(\u001b[0m\u001b[0;34m)\u001b[0m\u001b[0;34m[\u001b[0m\u001b[0;34m'response'\u001b[0m\u001b[0;34m]\u001b[0m\u001b[0;34m[\u001b[0m\u001b[0;34m'groups'\u001b[0m\u001b[0;34m]\u001b[0m\u001b[0;34m[\u001b[0m\u001b[0;36m0\u001b[0m\u001b[0;34m]\u001b[0m\u001b[0;34m[\u001b[0m\u001b[0;34m'items'\u001b[0m\u001b[0;34m]\u001b[0m\u001b[0;34m\u001b[0m\u001b[0;34m\u001b[0m\u001b[0m\n\u001b[0m\u001b[1;32m     16\u001b[0m \u001b[0;34m\u001b[0m\u001b[0m\n\u001b[1;32m     17\u001b[0m         venues_list.append([(\n",
                        "\u001b[0;31mKeyError\u001b[0m: 'groups'"
                    ]
                }
            ],
            "source": "ava_venues = getNearbyVenues(names = ava_filtered['Neighborhood'], latitudes = ava_filtered['Latitude'], longitudes = ava_filtered['Longitude'])\nprint(ava_venues.shape)\nava_venues.head()"
        },
        {
            "cell_type": "code",
            "execution_count": null,
            "metadata": {},
            "outputs": [],
            "source": "ava_restaurant = ava_venues[ava_venues['Venue Category'].str.contains('Restaurant')]\n\nava_restaurant.shape"
        },
        {
            "cell_type": "code",
            "execution_count": null,
            "metadata": {},
            "outputs": [],
            "source": "# Use neighborhoods where there are 5 or more restaurants\nava_restaurant_count = ava_restaurant.groupby('Neighborhood').count()\ntemp = ava_test[ava_test['Venue']>=5]\nselect_neighborhoods = temp.index.tolist()\n\nava_restaurant_filtered = ava_restaurant[ava_restaurant['Neighborhood'].isin(select_neighborhoods)]"
        },
        {
            "cell_type": "markdown",
            "metadata": {},
            "source": "### 4.) Restructure Data"
        },
        {
            "cell_type": "code",
            "execution_count": null,
            "metadata": {},
            "outputs": [],
            "source": "ava_onehot = pd.get_dummies(ava_restaurant_filtered[['Venue Category']], prefix=\"\", prefix_sep=\"\")\n\nava_onehot['Neighborhood'] = ava_restaurant['Neighborhood']\n\nfixed_columns = [ava_onehot.columns[-1]] + list(ava_onehot.columns[:-1])\nava_onehot = ava_onehot[fixed_columns]\n\nava_onehot.head()"
        },
        {
            "cell_type": "code",
            "execution_count": null,
            "metadata": {},
            "outputs": [],
            "source": "print('There are {} different venues in these Arlington neighborhoods, and a total of {} different restaurant categories.'.format(ava_onehot.shape[0], ava_onehot.shape[1]))"
        },
        {
            "cell_type": "code",
            "execution_count": null,
            "metadata": {},
            "outputs": [],
            "source": "ava_grouped = ava_onehot.groupby('Neighborhood').mean().reset_index()\nava_grouped"
        },
        {
            "cell_type": "code",
            "execution_count": null,
            "metadata": {},
            "outputs": [],
            "source": "def return_most_common_venues(row, num_top_venues):\n    row_categories = row.iloc[1:]\n    row_categories_sorted = row_categories.sort_values(ascending = False)\n    \n    \n    \n    return row_categories_sorted.index.values[0: num_top_venues]"
        },
        {
            "cell_type": "code",
            "execution_count": null,
            "metadata": {},
            "outputs": [],
            "source": "num_top_venues = 5\n\nindicators = ['st', 'nd', 'rd']\n\ncolumns = ['Neighborhood']\nfor ind in np.arange(num_top_venues):\n    try:\n        columns.append('{}{} Most Common Venue'.format(ind+1, indicators[ind]))\n    except:\n        columns.append('{}th Most Common Venue'.format(ind+1))\n        \nneighborhoods_venues_sorted = pd.DataFrame(columns=columns)\nneighborhoods_venues_sorted['Neighborhood'] = ava_grouped['Neighborhood']\n\nfor ind in np.arange(ava_grouped.shape[0]):\n    neighborhoods_venues_sorted.iloc[ind, 1:] = return_most_common_venues(ava_grouped.iloc[ind, :], num_top_venues)\n    \nneighborhoods_venues_sorted"
        },
        {
            "cell_type": "markdown",
            "metadata": {},
            "source": "### 5. Clustering"
        },
        {
            "cell_type": "code",
            "execution_count": null,
            "metadata": {},
            "outputs": [],
            "source": "kclusters = 5\n\nava_grouped_clustering = ava_grouped.drop('Neighborhood', 1)\n\nkmeans = KMeans(n_clusters=kclusters, random_state=0).fit(ava_grouped_clustering)"
        },
        {
            "cell_type": "code",
            "execution_count": null,
            "metadata": {},
            "outputs": [],
            "source": "neighborhoods_venues_sorted.insert(0, 'Cluster Labels', kmeans.labels_)\n\nava_final = ava_filtered[ava_filtered['Neighborhood'].isin(select_neighborhoods)]\n\nava_final = ava_final.join(neighborhoods_venues_sorted.set_index('Neighborhood'), on='Neighborhood')\n\nava_final.head()"
        },
        {
            "cell_type": "markdown",
            "metadata": {},
            "source": "## Discussion"
        },
        {
            "cell_type": "markdown",
            "metadata": {},
            "source": "### Map Cluster"
        },
        {
            "cell_type": "code",
            "execution_count": null,
            "metadata": {},
            "outputs": [],
            "source": "#downtown toronto lat/long\nlatitude = 38.8816\nlongitude = -77.0910 \n\nmap_clusters = folium.Map(location = [latitude, longitude], zoom_start = 13)\n\nx = np.arange(kclusters)\nys = [i + x + (i*x)**2 for i in range(kclusters)]\ncolors_array = cm.rainbow(np.linspace(0,1, len(ys)))\nrainbow = [colors.rgb2hex(i) for i in colors_array]\n\nmarkers_colors = []\nfor lat, lon, poi, cluster in zip(ava_final['Latitude'], ava_final['Longitude'], ava_final['Neighborhood'], ava_final['Cluster Labels']):\n    label = folium.Popup(str(poi) + ' Cluster ' + str(cluster), parse_html=True)\n    folium.CircleMarker(\n        [lat, lon],\n        radius=5,\n        popup=label,\n        color = rainbow[cluster-1],\n        fill=True,\n        fill_color=rainbow[cluster-1],\n        fill_opacity=0.7).add_to(map_clusters)\n    \nmap_clusters"
        },
        {
            "cell_type": "markdown",
            "metadata": {},
            "source": "### Examine Clusters"
        },
        {
            "cell_type": "code",
            "execution_count": null,
            "metadata": {},
            "outputs": [],
            "source": "# First Cluster\nava_final.loc[toronto_merged['Cluster Labels']==0, ava_final.columns[[2] + list(range(5, toronto_merged.shape[1]))]]"
        },
        {
            "cell_type": "code",
            "execution_count": null,
            "metadata": {},
            "outputs": [],
            "source": ""
        }
    ],
    "metadata": {
        "kernelspec": {
            "display_name": "Python 3.7",
            "language": "python",
            "name": "python3"
        },
        "language_info": {
            "codemirror_mode": {
                "name": "ipython",
                "version": 3
            },
            "file_extension": ".py",
            "mimetype": "text/x-python",
            "name": "python",
            "nbconvert_exporter": "python",
            "pygments_lexer": "ipython3",
            "version": "3.7.9"
        }
    },
    "nbformat": 4,
    "nbformat_minor": 1
}